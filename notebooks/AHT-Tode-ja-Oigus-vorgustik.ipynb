{
 "cells": [
  {
   "cell_type": "code",
   "execution_count": 1,
   "metadata": {
    "collapsed": true,
    "deletable": true,
    "editable": true
   },
   "outputs": [],
   "source": [
    "import re\n",
    "from itertools import combinations\n",
    "from itertools import permutations\n",
    "from collections import Counter\n",
    "import pandas as pd"
   ]
  },
  {
   "cell_type": "markdown",
   "metadata": {
    "deletable": true,
    "editable": true
   },
   "source": [
    "Teksti tükeldamise [funktsioon](https://github.com/PacktPublishing/Python-Machine-Learning-Cookbook/blob/master/Chapter06/chunking.py) `splitter`, mille sisendiks on tekst ja soovitud tekstiosade pikkus sõnade arvuna. Tekst tükeldatakse tühikute kohalt."
   ]
  },
  {
   "cell_type": "code",
   "execution_count": 2,
   "metadata": {
    "collapsed": true,
    "deletable": true,
    "editable": true
   },
   "outputs": [],
   "source": [
    "# Split a text into chunks \n",
    "def splitter(data, num_words):\n",
    "    words = data.split(' ')\n",
    "    output = []\n",
    "\n",
    "    cur_count = 0\n",
    "    cur_words = []\n",
    "    for word in words:\n",
    "        cur_words.append(word)\n",
    "        cur_count += 1\n",
    "        if cur_count == num_words:\n",
    "            output.append(' '.join(cur_words))\n",
    "            cur_words = []\n",
    "            cur_count = 0\n",
    "\n",
    "    output.append(' '.join(cur_words) )\n",
    "\n",
    "    return output "
   ]
  },
  {
   "cell_type": "markdown",
   "metadata": {
    "deletable": true,
    "editable": true
   },
   "source": [
    "Loo failist asenduste leksikon. Algfailis olevaid isikunimed ühtlustatakse. Parandatakse mõned vead ning teisendatakse hüüdnimed ja eri nimekujud ühtsele kujule (Krõet --> Krõõt jne), kuna tegemist on sama isikuga ja oleme huvitatud tegelaskujude paaridest."
   ]
  },
  {
   "cell_type": "code",
   "execution_count": 3,
   "metadata": {
    "collapsed": true,
    "deletable": true,
    "editable": true
   },
   "outputs": [],
   "source": [
    "name_replacements = {}\n",
    "with open(\"name-replacements.txt\", 'r', encoding='utf-8') as f:\n",
    "    for line in f:\n",
    "       (key, val) = line.split(\";\")\n",
    "       name_replacements[key.strip()] = val.strip()"
   ]
  },
  {
   "cell_type": "markdown",
   "metadata": {
    "deletable": true,
    "editable": true
   },
   "source": [
    "Algfailis tehakse nimede asendused ning väljund kirjutatakse uude faili."
   ]
  },
  {
   "cell_type": "code",
   "execution_count": 4,
   "metadata": {
    "collapsed": true,
    "deletable": true,
    "editable": true
   },
   "outputs": [],
   "source": [
    "with open(\"Anton_Hansen_Tammsaare_Tode_ja_oigus_I.utf8\", 'r', encoding=\"utf-8\") as f:\n",
    "    content = f.read()\n",
    "    content = re.sub(r'\\b' + '|'.join(name_replacements.keys()) + r'\\b', lambda m: name_replacements[m.group(0)], content)\n",
    "\n",
    "with open(\"Anton_Hansen_Tammsaare_Tode_ja_oigus_I_asendustega.utf8\", \"w\", encoding = \"utf-8\") as outp:\n",
    "    outp.write(content)"
   ]
  },
  {
   "cell_type": "markdown",
   "metadata": {
    "deletable": true,
    "editable": true
   },
   "source": [
    "Loetakse sisse lemmatiseeritud fail, lemmad on moodustatud asendustega failist. Lemmatiseerimise etapp on koodis praegu vahele jäetud."
   ]
  },
  {
   "cell_type": "code",
   "execution_count": 5,
   "metadata": {
    "collapsed": false,
    "deletable": true,
    "editable": true
   },
   "outputs": [],
   "source": [
    "with open(\"Anton_Hansen_Tammsaare_Tode_ja_oigus_I_lemmad.txt\", 'r', encoding=\"utf-8\") as f:\n",
    "    content = f.read()"
   ]
  },
  {
   "cell_type": "markdown",
   "metadata": {
    "deletable": true,
    "editable": true
   },
   "source": [
    "Teksti tükeldamine 200-sõnalisteks juppideks."
   ]
  },
  {
   "cell_type": "code",
   "execution_count": 6,
   "metadata": {
    "collapsed": false,
    "deletable": true,
    "editable": true
   },
   "outputs": [],
   "source": [
    "text_chunks = splitter(content, 200)"
   ]
  },
  {
   "cell_type": "markdown",
   "metadata": {
    "deletable": true,
    "editable": true
   },
   "source": [
    "Kogu tekstist moodustatakse kaheliikmelised kombinatsioonid."
   ]
  },
  {
   "cell_type": "code",
   "execution_count": 7,
   "metadata": {
    "collapsed": false,
    "deletable": true,
    "editable": true
   },
   "outputs": [],
   "source": [
    "combs = []\n",
    "for chunk in text_chunks:\n",
    "    combs.append(list(combinations(chunk.split(\" \"), 2)))"
   ]
  },
  {
   "cell_type": "markdown",
   "metadata": {
    "deletable": true,
    "editable": true
   },
   "source": [
    "Tekstist võetakse välja ainult need kombinatsioonid, mille mõlema liikmes on mõni suurtäht. Kuna sisendiks oli lemmatiseeritud ja teisendatud fail, siis lausealgulised suurtähed jmt on muudetud väikesteks, seega on potentsiaalselt nimed ainult need, kus esineb suurtäht. Samuti jäetkase välja kombinatsioonid, kus mõlemad liikmed on samad ning kõik kaksikud sorteeritakse enne lõplikku listi lisamist tähestikuliselt."
   ]
  },
  {
   "cell_type": "code",
   "execution_count": 8,
   "metadata": {
    "collapsed": true,
    "deletable": true,
    "editable": true
   },
   "outputs": [],
   "source": [
    "unique_combs_in_chunks = []\n",
    "for i in combs:\n",
    "    for j in i:\n",
    "        if any(x.isupper() for x in j[0]) and any(x.isupper() for x in j[1]) and j[0] != j[1]:\n",
    "            unique_combs_in_chunks.append(tuple(sorted(j)))"
   ]
  },
  {
   "cell_type": "markdown",
   "metadata": {
    "deletable": true,
    "editable": true
   },
   "source": [
    "Kuna ka lemmatiseeritud fail pole täiesti puhas, siis oleks vaja kombinatsioone veel natuke puhastada. Välja visatakse kõik kohanimed, kuna oleme huvitatud ainult isikunimede paaridest. Lisaks visatakse välja veel mõned valesti nimeks märgendatud sõnad. Selleks on eelnevalt tekitatud fail loendiga ebasoovitavatest sõnadest."
   ]
  },
  {
   "cell_type": "code",
   "execution_count": 14,
   "metadata": {
    "collapsed": false,
    "deletable": true,
    "editable": true
   },
   "outputs": [],
   "source": [
    "exclusion = []\n",
    "with open(\"excluded-names.txt\", 'r', encoding='utf-8') as f:\n",
    "    for line in f:\n",
    "        exclusion.append(line.strip())\n",
    "        \n",
    "unique_combs_in_chunks = [e for e in unique_combs_in_chunks if e[0] not in exclusion and e[1] not in exclusion]"
   ]
  },
  {
   "cell_type": "markdown",
   "metadata": {
    "collapsed": false,
    "deletable": true,
    "editable": true
   },
   "source": [
    "Nimekombinatsioonidest moodustatakse sagedusloend."
   ]
  },
  {
   "cell_type": "code",
   "execution_count": 15,
   "metadata": {
    "collapsed": true,
    "deletable": true,
    "editable": true
   },
   "outputs": [],
   "source": [
    "combination_freqs = Counter(unique_combs_in_chunks)"
   ]
  },
  {
   "cell_type": "markdown",
   "metadata": {
    "deletable": true,
    "editable": true
   },
   "source": [
    "Nimepaaride sagedustest moodustatakse tabel."
   ]
  },
  {
   "cell_type": "code",
   "execution_count": 29,
   "metadata": {
    "collapsed": false,
    "deletable": true,
    "editable": true
   },
   "outputs": [
    {
     "data": {
      "text/html": [
       "<div>\n",
       "<table border=\"1\" class=\"dataframe\">\n",
       "  <thead>\n",
       "    <tr style=\"text-align: right;\">\n",
       "      <th></th>\n",
       "      <th>pair</th>\n",
       "      <th>Count</th>\n",
       "    </tr>\n",
       "  </thead>\n",
       "  <tbody>\n",
       "    <tr>\n",
       "      <th>0</th>\n",
       "      <td>Maasik,Mari</td>\n",
       "      <td>4</td>\n",
       "    </tr>\n",
       "    <tr>\n",
       "      <th>1</th>\n",
       "      <td>Eedi,Madis</td>\n",
       "      <td>1</td>\n",
       "    </tr>\n",
       "    <tr>\n",
       "      <th>2</th>\n",
       "      <td>Madis,Nonäh</td>\n",
       "      <td>5</td>\n",
       "    </tr>\n",
       "    <tr>\n",
       "      <th>3</th>\n",
       "      <td>Karja-Eedi,Madis</td>\n",
       "      <td>2</td>\n",
       "    </tr>\n",
       "    <tr>\n",
       "      <th>4</th>\n",
       "      <td>Madis,Mart</td>\n",
       "      <td>1</td>\n",
       "    </tr>\n",
       "  </tbody>\n",
       "</table>\n",
       "</div>"
      ],
      "text/plain": [
       "               pair  Count\n",
       "0       Maasik,Mari      4\n",
       "1        Eedi,Madis      1\n",
       "2       Madis,Nonäh      5\n",
       "3  Karja-Eedi,Madis      2\n",
       "4        Madis,Mart      1"
      ]
     },
     "execution_count": 29,
     "metadata": {},
     "output_type": "execute_result"
    }
   ],
   "source": [
    "name_df = pd.DataFrame.from_dict(combination_freqs, orient='index').reset_index()\n",
    "name_df = name_df.rename(columns={'index':'pair', 0:'Count'})\n",
    "name_df['pair'] = name_df['pair'].apply(','.join)\n",
    "name_df.head()"
   ]
  },
  {
   "cell_type": "markdown",
   "metadata": {
    "deletable": true,
    "editable": true
   },
   "source": [
    "Nimepaaride sagedustega tabelist tekitatakse tabel, kus mõlemad nimed ning sagedus kuuluvad eraldi veergudesse. Paaridega veerg eemaldatakse ning veergude järjekorda muudetakse."
   ]
  },
  {
   "cell_type": "code",
   "execution_count": 30,
   "metadata": {
    "collapsed": false,
    "deletable": true,
    "editable": true
   },
   "outputs": [
    {
     "data": {
      "text/html": [
       "<div>\n",
       "<table border=\"1\" class=\"dataframe\">\n",
       "  <thead>\n",
       "    <tr style=\"text-align: right;\">\n",
       "      <th></th>\n",
       "      <th>Source</th>\n",
       "      <th>Target</th>\n",
       "      <th>Count</th>\n",
       "    </tr>\n",
       "  </thead>\n",
       "  <tbody>\n",
       "    <tr>\n",
       "      <th>0</th>\n",
       "      <td>Maasik</td>\n",
       "      <td>Mari</td>\n",
       "      <td>4</td>\n",
       "    </tr>\n",
       "    <tr>\n",
       "      <th>1</th>\n",
       "      <td>Eedi</td>\n",
       "      <td>Madis</td>\n",
       "      <td>1</td>\n",
       "    </tr>\n",
       "    <tr>\n",
       "      <th>2</th>\n",
       "      <td>Madis</td>\n",
       "      <td>Nonäh</td>\n",
       "      <td>5</td>\n",
       "    </tr>\n",
       "    <tr>\n",
       "      <th>3</th>\n",
       "      <td>Karja-Eedi</td>\n",
       "      <td>Madis</td>\n",
       "      <td>2</td>\n",
       "    </tr>\n",
       "    <tr>\n",
       "      <th>4</th>\n",
       "      <td>Madis</td>\n",
       "      <td>Mart</td>\n",
       "      <td>1</td>\n",
       "    </tr>\n",
       "  </tbody>\n",
       "</table>\n",
       "</div>"
      ],
      "text/plain": [
       "       Source Target  Count\n",
       "0      Maasik   Mari      4\n",
       "1        Eedi  Madis      1\n",
       "2       Madis  Nonäh      5\n",
       "3  Karja-Eedi  Madis      2\n",
       "4       Madis   Mart      1"
      ]
     },
     "execution_count": 30,
     "metadata": {},
     "output_type": "execute_result"
    }
   ],
   "source": [
    "name_df['Source'], name_df['Target'] = zip(*name_df['pair'].map(lambda x: x.split(',')))\n",
    "name_df = name_df.drop('pair', axis=1)\n",
    "name_df = name_df.reindex_axis(['Source', 'Target', 'Count'], axis=1)\n",
    "name_df.head()"
   ]
  },
  {
   "cell_type": "markdown",
   "metadata": {
    "deletable": true,
    "editable": true
   },
   "source": [
    "Lõpuks võetakse välja ainult paarid, mille esinemissagedus on kümnest suurem. Väljund kirjutatakse eraldi faili."
   ]
  },
  {
   "cell_type": "code",
   "execution_count": 32,
   "metadata": {
    "collapsed": false,
    "deletable": true,
    "editable": true
   },
   "outputs": [],
   "source": [
    "name_df = name_df.query('Count > 9')\n",
    "name_df.to_csv(\"name_pairs.csv\", sep = \";\", index=False, encoding = \"utf-8\")"
   ]
  }
 ],
 "metadata": {
  "kernelspec": {
   "display_name": "Python 3",
   "language": "python",
   "name": "python3"
  },
  "language_info": {
   "codemirror_mode": {
    "name": "ipython",
    "version": 3
   },
   "file_extension": ".py",
   "mimetype": "text/x-python",
   "name": "python",
   "nbconvert_exporter": "python",
   "pygments_lexer": "ipython3",
   "version": "3.6.0"
  }
 },
 "nbformat": 4,
 "nbformat_minor": 2
}
